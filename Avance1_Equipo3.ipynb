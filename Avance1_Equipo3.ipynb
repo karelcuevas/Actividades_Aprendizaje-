{
  "nbformat": 4,
  "nbformat_minor": 0,
  "metadata": {
    "colab": {
      "provenance": [],
      "authorship_tag": "ABX9TyOBNLOtiWf/TruyviiU42SI",
      "include_colab_link": true
    },
    "kernelspec": {
      "name": "python3",
      "display_name": "Python 3"
    },
    "language_info": {
      "name": "python"
    }
  },
  "cells": [
    {
      "cell_type": "markdown",
      "metadata": {
        "id": "view-in-github",
        "colab_type": "text"
      },
      "source": [
        "<a href=\"https://colab.research.google.com/github/karelcuevas/Actividades_Aprendizaje-/blob/main/Avance1_Equipo3.ipynb\" target=\"_parent\"><img src=\"https://colab.research.google.com/assets/colab-badge.svg\" alt=\"Open In Colab\"/></a>"
      ]
    },
    {
      "cell_type": "markdown",
      "source": [
        "# **Proyecto Integrador**\n",
        "\n",
        "\n",
        "## **Avance 1. Análisis exploratorio de datos**\n",
        "\n",
        "---\n",
        "**Prof. Titulares:**\n",
        "\n",
        "Dra. Grettel Barceló Alonso\n",
        "\n",
        "Dr. Luis Eduardo Falcón Morales\n",
        "\n",
        "**Prof.a Tutora:**\n",
        "\n",
        "Mtra. Verónica Sandra Guzmán de Valle\n",
        "\n",
        "\n",
        "---\n",
        "\n",
        "**Integrantes Equipo 3:**\n",
        "\n",
        "Julián David Góngora Forero - A01793036\n",
        "\n",
        "José Javier Granados Hernández - A00566717\n",
        "\n",
        "Karel Alejandro Cuevas Hernández - A00301492"
      ],
      "metadata": {
        "id": "hVloaBcyhirM"
      }
    },
    {
      "cell_type": "code",
      "execution_count": null,
      "metadata": {
        "id": "978XGBqWhhuQ"
      },
      "outputs": [],
      "source": []
    }
  ]
}