{
  "nbformat": 4,
  "nbformat_minor": 0,
  "metadata": {
    "colab": {
      "provenance": [],
      "authorship_tag": "ABX9TyNMp9lRjHWP1WawmzSepIVk",
      "include_colab_link": true
    },
    "kernelspec": {
      "name": "python3",
      "display_name": "Python 3"
    },
    "language_info": {
      "name": "python"
    }
  },
  "cells": [
    {
      "cell_type": "markdown",
      "metadata": {
        "id": "view-in-github",
        "colab_type": "text"
      },
      "source": [
        "<a href=\"https://colab.research.google.com/github/karelcuevas/Actividades_Aprendizaje-/blob/main/Avance1_Equipo3.ipynb\" target=\"_parent\"><img src=\"https://colab.research.google.com/assets/colab-badge.svg\" alt=\"Open In Colab\"/></a>"
      ]
    },
    {
      "cell_type": "markdown",
      "source": [
        "# **Proyecto Integrador**\n",
        "\n",
        "\n",
        "## **Avance 1. Análisis exploratorio de datos**\n",
        "\n",
        "---\n",
        "**Prof. Titulares:**\n",
        "\n",
        "Dra. Grettel Barceló Alonso\n",
        "\n",
        "Dr. Luis Eduardo Falcón Morales\n",
        "\n",
        "**Prof.a Tutora:**\n",
        "\n",
        "Mtra. Verónica Sandra Guzmán de Valle\n",
        "\n",
        "\n",
        "---\n",
        "\n",
        "**Integrantes Equipo 3:**\n",
        "\n",
        "Julián David Góngora Forero - A01793036\n",
        "\n",
        "José Javier Granados Hernández - A00566717\n",
        "\n",
        "Karel Alejandro Cuevas Hernández - A00301492"
      ],
      "metadata": {
        "id": "hVloaBcyhirM"
      }
    },
    {
      "cell_type": "markdown",
      "source": [
        "\n",
        "---\n",
        "\n",
        "\n",
        "## **EDA - Exploratory Data Analysis**"
      ],
      "metadata": {
        "id": "iWheNN8rn_Au"
      }
    },
    {
      "cell_type": "markdown",
      "source": [
        "¿Hay valores faltantes en el conjunto de datos?\n",
        "\n",
        "¿Se pueden identificar patrones de ausencia?\n",
        "\n",
        "¿Cuáles son las estadísticas resumidas del conjunto de datos?\n",
        "\n",
        "¿Hay valores atípicos en el conjunto de datos?\n",
        "\n",
        "¿Cuál es la cardinalidad de las variables categóricas?\n",
        "\n",
        "¿Existen distribuciones sesgadas en el conjunto de datos?\n",
        "\n",
        "¿Necesitamos aplicar alguna transformación no lineal?\n",
        "\n",
        "¿Se identifican tendencias temporales? (En caso de que el conjunto incluya una dimensión de tiempo).\n",
        "\n",
        "¿Hay correlación entre las variables dependientes e independientes?\n",
        "\n",
        "¿Cómo se distribuyen los datos en función de diferentes categorías?\n",
        "\n",
        "¿Existen patrones o agrupaciones (clusters) en los datos con características similares?\n",
        "\n",
        "¿Se deberían normalizar las imágenes para visualizarlas mejor?\n",
        "\n",
        "¿Hay desequilibrio en las clases de la variable objetivo?\n"
      ],
      "metadata": {
        "id": "54M1yBxpnXs-"
      }
    },
    {
      "cell_type": "code",
      "execution_count": null,
      "metadata": {
        "id": "978XGBqWhhuQ"
      },
      "outputs": [],
      "source": []
    }
  ]
}