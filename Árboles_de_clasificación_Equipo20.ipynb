{
  "nbformat": 4,
  "nbformat_minor": 0,
  "metadata": {
    "colab": {
      "provenance": [],
      "authorship_tag": "ABX9TyPZYGl+wV41R/ETUIlFB+vV",
      "include_colab_link": true
    },
    "kernelspec": {
      "name": "python3",
      "display_name": "Python 3"
    },
    "language_info": {
      "name": "python"
    }
  },
  "cells": [
    {
      "cell_type": "markdown",
      "metadata": {
        "id": "view-in-github",
        "colab_type": "text"
      },
      "source": [
        "<a href=\"https://colab.research.google.com/github/karelcuevas/Actividades_Aprendizaje-/blob/main/%C3%81rboles_de_clasificaci%C3%B3n_Equipo20.ipynb\" target=\"_parent\"><img src=\"https://colab.research.google.com/assets/colab-badge.svg\" alt=\"Open In Colab\"/></a>"
      ]
    },
    {
      "cell_type": "code",
      "execution_count": null,
      "metadata": {
        "id": "DWqGe42kqlTP",
        "colab": {
          "base_uri": "https://localhost:8080/"
        },
        "outputId": "17b95397-c1af-480a-915c-a98fa56387c1"
      },
      "outputs": [
        {
          "output_type": "stream",
          "name": "stdout",
          "text": [
            "Looking in indexes: https://pypi.org/simple, https://us-python.pkg.dev/colab-wheels/public/simple/\n",
            "Requirement already satisfied: pyspark in /usr/local/lib/python3.9/dist-packages (3.3.2)\n",
            "Requirement already satisfied: py4j==0.10.9.5 in /usr/local/lib/python3.9/dist-packages (from pyspark) (0.10.9.5)\n"
          ]
        }
      ],
      "source": [
        "# Paso 1: Importar bibliotecas y establecer la conexión con Spark\n",
        "!pip install pyspark\n",
        "\n",
        "from pyspark.sql import SparkSession\n",
        "from pyspark.ml.feature import StringIndexer, VectorAssembler\n",
        "from pyspark.ml.classification import DecisionTreeClassifier\n",
        "from pyspark.ml.evaluation import MulticlassClassificationEvaluator\n",
        "\n",
        "spark = SparkSession.builder.appName('DecisionTree').getOrCreate()"
      ]
    },
    {
      "cell_type": "code",
      "source": [
        "# Paso 2: Leer dataset\n",
        "\n",
        "import pandas as pd\n",
        "\n",
        "df = pd.read_csv('/content/sparkdata2008.csv')\n",
        "df"
      ],
      "metadata": {
        "colab": {
          "base_uri": "https://localhost:8080/",
          "height": 641
        },
        "id": "EtzFl2tSLhz5",
        "outputId": "3ebc17b4-ca5b-4f03-930b-f429aede6d37"
      },
      "execution_count": null,
      "outputs": [
        {
          "output_type": "execute_result",
          "data": {
            "text/plain": [
              "        cve_mun                                          nom_estab  \\\n",
              "0           120       ACUACULTORES LOS CASTRO S.C. DE R.L. DE C.V.   \n",
              "1           120                 AGROSERVICIOS DINAMICOS INTEGRALES   \n",
              "2           120                 AGROSERVICIOS DINAMICOS INTEGRALES   \n",
              "3           120                                            AMBIENT   \n",
              "4           120                               DESHUESADERO DE COCO   \n",
              "...         ...                                                ...   \n",
              "378434        4                 VIDRIOS ALUMINIOS Y HERRERIA PACOS   \n",
              "378435        4               PRECIDENCIA MUNICIPAL. AYUNTAMIENTO.   \n",
              "378436        4                                   PROTECCION CIVIL   \n",
              "378437        4  RECAUDADORA 121 SECRETARIA DE FINANZAS DE AMAC...   \n",
              "378438        4                               SISTEMA DIF AMACUECA   \n",
              "\n",
              "                   per_ocu  region                indicador     valor  \\\n",
              "0           0 a 5 personas  centro  Personal ocupado total.  282211.0   \n",
              "1           0 a 5 personas  centro  Personal ocupado total.  282211.0   \n",
              "2          6 a 10 personas  centro  Personal ocupado total.  282211.0   \n",
              "3           0 a 5 personas  centro  Personal ocupado total.  282211.0   \n",
              "4         11 a 30 personas  centro  Personal ocupado total.  282211.0   \n",
              "...                    ...     ...                      ...       ...   \n",
              "378434      0 a 5 personas     sur  Personal ocupado total.     246.0   \n",
              "378435  101 a 250 personas     sur  Personal ocupado total.     246.0   \n",
              "378436     6 a 10 personas     sur  Personal ocupado total.     246.0   \n",
              "378437      0 a 5 personas     sur  Personal ocupado total.     246.0   \n",
              "378438     6 a 10 personas     sur  Personal ocupado total.     246.0   \n",
              "\n",
              "             unidad_medida     ano  id_indicador  \n",
              "0       Número de personas  2008.0  5.300000e+09  \n",
              "1       Número de personas  2008.0  5.300000e+09  \n",
              "2       Número de personas  2008.0  5.300000e+09  \n",
              "3       Número de personas  2008.0  5.300000e+09  \n",
              "4       Número de personas  2008.0  5.300000e+09  \n",
              "...                    ...     ...           ...  \n",
              "378434  Número de personas  2008.0  5.300000e+09  \n",
              "378435  Número de personas  2008.0  5.300000e+09  \n",
              "378436  Número de personas  2008.0  5.300000e+09  \n",
              "378437  Número de personas  2008.0  5.300000e+09  \n",
              "378438  Número de personas  2008.0  5.300000e+09  \n",
              "\n",
              "[378439 rows x 9 columns]"
            ],
            "text/html": [
              "\n",
              "  <div id=\"df-133e440d-66c3-46bd-9d53-94a653af61d0\">\n",
              "    <div class=\"colab-df-container\">\n",
              "      <div>\n",
              "<style scoped>\n",
              "    .dataframe tbody tr th:only-of-type {\n",
              "        vertical-align: middle;\n",
              "    }\n",
              "\n",
              "    .dataframe tbody tr th {\n",
              "        vertical-align: top;\n",
              "    }\n",
              "\n",
              "    .dataframe thead th {\n",
              "        text-align: right;\n",
              "    }\n",
              "</style>\n",
              "<table border=\"1\" class=\"dataframe\">\n",
              "  <thead>\n",
              "    <tr style=\"text-align: right;\">\n",
              "      <th></th>\n",
              "      <th>cve_mun</th>\n",
              "      <th>nom_estab</th>\n",
              "      <th>per_ocu</th>\n",
              "      <th>region</th>\n",
              "      <th>indicador</th>\n",
              "      <th>valor</th>\n",
              "      <th>unidad_medida</th>\n",
              "      <th>ano</th>\n",
              "      <th>id_indicador</th>\n",
              "    </tr>\n",
              "  </thead>\n",
              "  <tbody>\n",
              "    <tr>\n",
              "      <th>0</th>\n",
              "      <td>120</td>\n",
              "      <td>ACUACULTORES LOS CASTRO S.C. DE R.L. DE C.V.</td>\n",
              "      <td>0 a 5 personas</td>\n",
              "      <td>centro</td>\n",
              "      <td>Personal ocupado total.</td>\n",
              "      <td>282211.0</td>\n",
              "      <td>Número de personas</td>\n",
              "      <td>2008.0</td>\n",
              "      <td>5.300000e+09</td>\n",
              "    </tr>\n",
              "    <tr>\n",
              "      <th>1</th>\n",
              "      <td>120</td>\n",
              "      <td>AGROSERVICIOS DINAMICOS INTEGRALES</td>\n",
              "      <td>0 a 5 personas</td>\n",
              "      <td>centro</td>\n",
              "      <td>Personal ocupado total.</td>\n",
              "      <td>282211.0</td>\n",
              "      <td>Número de personas</td>\n",
              "      <td>2008.0</td>\n",
              "      <td>5.300000e+09</td>\n",
              "    </tr>\n",
              "    <tr>\n",
              "      <th>2</th>\n",
              "      <td>120</td>\n",
              "      <td>AGROSERVICIOS DINAMICOS INTEGRALES</td>\n",
              "      <td>6 a 10 personas</td>\n",
              "      <td>centro</td>\n",
              "      <td>Personal ocupado total.</td>\n",
              "      <td>282211.0</td>\n",
              "      <td>Número de personas</td>\n",
              "      <td>2008.0</td>\n",
              "      <td>5.300000e+09</td>\n",
              "    </tr>\n",
              "    <tr>\n",
              "      <th>3</th>\n",
              "      <td>120</td>\n",
              "      <td>AMBIENT</td>\n",
              "      <td>0 a 5 personas</td>\n",
              "      <td>centro</td>\n",
              "      <td>Personal ocupado total.</td>\n",
              "      <td>282211.0</td>\n",
              "      <td>Número de personas</td>\n",
              "      <td>2008.0</td>\n",
              "      <td>5.300000e+09</td>\n",
              "    </tr>\n",
              "    <tr>\n",
              "      <th>4</th>\n",
              "      <td>120</td>\n",
              "      <td>DESHUESADERO DE COCO</td>\n",
              "      <td>11 a 30 personas</td>\n",
              "      <td>centro</td>\n",
              "      <td>Personal ocupado total.</td>\n",
              "      <td>282211.0</td>\n",
              "      <td>Número de personas</td>\n",
              "      <td>2008.0</td>\n",
              "      <td>5.300000e+09</td>\n",
              "    </tr>\n",
              "    <tr>\n",
              "      <th>...</th>\n",
              "      <td>...</td>\n",
              "      <td>...</td>\n",
              "      <td>...</td>\n",
              "      <td>...</td>\n",
              "      <td>...</td>\n",
              "      <td>...</td>\n",
              "      <td>...</td>\n",
              "      <td>...</td>\n",
              "      <td>...</td>\n",
              "    </tr>\n",
              "    <tr>\n",
              "      <th>378434</th>\n",
              "      <td>4</td>\n",
              "      <td>VIDRIOS ALUMINIOS Y HERRERIA PACOS</td>\n",
              "      <td>0 a 5 personas</td>\n",
              "      <td>sur</td>\n",
              "      <td>Personal ocupado total.</td>\n",
              "      <td>246.0</td>\n",
              "      <td>Número de personas</td>\n",
              "      <td>2008.0</td>\n",
              "      <td>5.300000e+09</td>\n",
              "    </tr>\n",
              "    <tr>\n",
              "      <th>378435</th>\n",
              "      <td>4</td>\n",
              "      <td>PRECIDENCIA MUNICIPAL. AYUNTAMIENTO.</td>\n",
              "      <td>101 a 250 personas</td>\n",
              "      <td>sur</td>\n",
              "      <td>Personal ocupado total.</td>\n",
              "      <td>246.0</td>\n",
              "      <td>Número de personas</td>\n",
              "      <td>2008.0</td>\n",
              "      <td>5.300000e+09</td>\n",
              "    </tr>\n",
              "    <tr>\n",
              "      <th>378436</th>\n",
              "      <td>4</td>\n",
              "      <td>PROTECCION CIVIL</td>\n",
              "      <td>6 a 10 personas</td>\n",
              "      <td>sur</td>\n",
              "      <td>Personal ocupado total.</td>\n",
              "      <td>246.0</td>\n",
              "      <td>Número de personas</td>\n",
              "      <td>2008.0</td>\n",
              "      <td>5.300000e+09</td>\n",
              "    </tr>\n",
              "    <tr>\n",
              "      <th>378437</th>\n",
              "      <td>4</td>\n",
              "      <td>RECAUDADORA 121 SECRETARIA DE FINANZAS DE AMAC...</td>\n",
              "      <td>0 a 5 personas</td>\n",
              "      <td>sur</td>\n",
              "      <td>Personal ocupado total.</td>\n",
              "      <td>246.0</td>\n",
              "      <td>Número de personas</td>\n",
              "      <td>2008.0</td>\n",
              "      <td>5.300000e+09</td>\n",
              "    </tr>\n",
              "    <tr>\n",
              "      <th>378438</th>\n",
              "      <td>4</td>\n",
              "      <td>SISTEMA DIF AMACUECA</td>\n",
              "      <td>6 a 10 personas</td>\n",
              "      <td>sur</td>\n",
              "      <td>Personal ocupado total.</td>\n",
              "      <td>246.0</td>\n",
              "      <td>Número de personas</td>\n",
              "      <td>2008.0</td>\n",
              "      <td>5.300000e+09</td>\n",
              "    </tr>\n",
              "  </tbody>\n",
              "</table>\n",
              "<p>378439 rows × 9 columns</p>\n",
              "</div>\n",
              "      <button class=\"colab-df-convert\" onclick=\"convertToInteractive('df-133e440d-66c3-46bd-9d53-94a653af61d0')\"\n",
              "              title=\"Convert this dataframe to an interactive table.\"\n",
              "              style=\"display:none;\">\n",
              "        \n",
              "  <svg xmlns=\"http://www.w3.org/2000/svg\" height=\"24px\"viewBox=\"0 0 24 24\"\n",
              "       width=\"24px\">\n",
              "    <path d=\"M0 0h24v24H0V0z\" fill=\"none\"/>\n",
              "    <path d=\"M18.56 5.44l.94 2.06.94-2.06 2.06-.94-2.06-.94-.94-2.06-.94 2.06-2.06.94zm-11 1L8.5 8.5l.94-2.06 2.06-.94-2.06-.94L8.5 2.5l-.94 2.06-2.06.94zm10 10l.94 2.06.94-2.06 2.06-.94-2.06-.94-.94-2.06-.94 2.06-2.06.94z\"/><path d=\"M17.41 7.96l-1.37-1.37c-.4-.4-.92-.59-1.43-.59-.52 0-1.04.2-1.43.59L10.3 9.45l-7.72 7.72c-.78.78-.78 2.05 0 2.83L4 21.41c.39.39.9.59 1.41.59.51 0 1.02-.2 1.41-.59l7.78-7.78 2.81-2.81c.8-.78.8-2.07 0-2.86zM5.41 20L4 18.59l7.72-7.72 1.47 1.35L5.41 20z\"/>\n",
              "  </svg>\n",
              "      </button>\n",
              "      \n",
              "  <style>\n",
              "    .colab-df-container {\n",
              "      display:flex;\n",
              "      flex-wrap:wrap;\n",
              "      gap: 12px;\n",
              "    }\n",
              "\n",
              "    .colab-df-convert {\n",
              "      background-color: #E8F0FE;\n",
              "      border: none;\n",
              "      border-radius: 50%;\n",
              "      cursor: pointer;\n",
              "      display: none;\n",
              "      fill: #1967D2;\n",
              "      height: 32px;\n",
              "      padding: 0 0 0 0;\n",
              "      width: 32px;\n",
              "    }\n",
              "\n",
              "    .colab-df-convert:hover {\n",
              "      background-color: #E2EBFA;\n",
              "      box-shadow: 0px 1px 2px rgba(60, 64, 67, 0.3), 0px 1px 3px 1px rgba(60, 64, 67, 0.15);\n",
              "      fill: #174EA6;\n",
              "    }\n",
              "\n",
              "    [theme=dark] .colab-df-convert {\n",
              "      background-color: #3B4455;\n",
              "      fill: #D2E3FC;\n",
              "    }\n",
              "\n",
              "    [theme=dark] .colab-df-convert:hover {\n",
              "      background-color: #434B5C;\n",
              "      box-shadow: 0px 1px 3px 1px rgba(0, 0, 0, 0.15);\n",
              "      filter: drop-shadow(0px 1px 2px rgba(0, 0, 0, 0.3));\n",
              "      fill: #FFFFFF;\n",
              "    }\n",
              "  </style>\n",
              "\n",
              "      <script>\n",
              "        const buttonEl =\n",
              "          document.querySelector('#df-133e440d-66c3-46bd-9d53-94a653af61d0 button.colab-df-convert');\n",
              "        buttonEl.style.display =\n",
              "          google.colab.kernel.accessAllowed ? 'block' : 'none';\n",
              "\n",
              "        async function convertToInteractive(key) {\n",
              "          const element = document.querySelector('#df-133e440d-66c3-46bd-9d53-94a653af61d0');\n",
              "          const dataTable =\n",
              "            await google.colab.kernel.invokeFunction('convertToInteractive',\n",
              "                                                     [key], {});\n",
              "          if (!dataTable) return;\n",
              "\n",
              "          const docLinkHtml = 'Like what you see? Visit the ' +\n",
              "            '<a target=\"_blank\" href=https://colab.research.google.com/notebooks/data_table.ipynb>data table notebook</a>'\n",
              "            + ' to learn more about interactive tables.';\n",
              "          element.innerHTML = '';\n",
              "          dataTable['output_type'] = 'display_data';\n",
              "          await google.colab.output.renderOutput(dataTable, element);\n",
              "          const docLink = document.createElement('div');\n",
              "          docLink.innerHTML = docLinkHtml;\n",
              "          element.appendChild(docLink);\n",
              "        }\n",
              "      </script>\n",
              "    </div>\n",
              "  </div>\n",
              "  "
            ]
          },
          "metadata": {},
          "execution_count": 112
        }
      ]
    },
    {
      "cell_type": "code",
      "source": [
        "# Paso 3: Transformar datos\n",
        "\n",
        "from pyspark.sql.types import StructType,StructField, StringType, IntegerType\n",
        "\n",
        "mySchema = StructType([ StructField(\"cve_num\", IntegerType(), True)\\\n",
        "                       ,StructField(\"nom_estab\", StringType(), True)\\\n",
        "                       ,StructField(\"per_ocu\", StringType(), True)\\\n",
        "                       ,StructField(\"region\", StringType(), True)\\\n",
        "                       ,StructField(\"indicador\", StringType(), True)\\\n",
        "                       ,StructField(\"valor\", IntegerType(), True)\\\n",
        "                       ,StructField(\"unidad_medida\", StringType(), True)\\\n",
        "                       ,StructField(\"ano\", IntegerType(), True)\\\n",
        "                       ,StructField(\"id_indicador\", IntegerType(), True)\n",
        "                       ])\n"
      ],
      "metadata": {
        "id": "NY3HgjtyOpDx"
      },
      "execution_count": null,
      "outputs": []
    },
    {
      "cell_type": "code",
      "source": [
        "# Paso 4: Limpiar datos y convertir a numéricas las columnas region_num y per_ocu_num\n",
        "\n",
        "df['cve_mun'] = pd.to_numeric(df['cve_mun'], downcast=\"integer\", errors = 'coerce')\n",
        "df['valor'] = pd.to_numeric(df['valor'], downcast=\"integer\", errors = 'coerce')\n",
        "df['ano'] = pd.to_numeric(df['ano'], downcast=\"integer\", errors = 'coerce')\n",
        "df['id_indicador'] = pd.to_numeric(df['id_indicador'], downcast=\"integer\", errors = 'coerce')\n",
        "\n",
        "df['region_num'] = df['region'].map({x:y for x,y in zip(df['region'].unique(), range(1,20))})\n",
        "df['per_ocu_num'] = df['per_ocu'].map({x:y for x,y in zip(df['per_ocu'].unique(), range(1,20))})"
      ],
      "metadata": {
        "id": "Ozn70U43b2rA"
      },
      "execution_count": null,
      "outputs": []
    },
    {
      "cell_type": "code",
      "source": [
        "# Paso 5: Crear un DataFrame de Spark\n",
        "\n",
        "spark.conf.set(\"spark.sql.execution.arrow.enabled\",\"true\")\n",
        "sparkDF=spark.createDataFrame(df) \n",
        "sparkDF.printSchema()\n",
        "sparkDF.show()"
      ],
      "metadata": {
        "colab": {
          "base_uri": "https://localhost:8080/"
        },
        "id": "d_pz4BHVnDnU",
        "outputId": "242c6876-d04d-4e44-b0b2-ea6f80e4248b"
      },
      "execution_count": null,
      "outputs": [
        {
          "output_type": "stream",
          "name": "stdout",
          "text": [
            "root\n",
            " |-- cve_mun: byte (nullable = true)\n",
            " |-- nom_estab: string (nullable = true)\n",
            " |-- per_ocu: string (nullable = true)\n",
            " |-- region: string (nullable = true)\n",
            " |-- indicador: string (nullable = true)\n",
            " |-- valor: integer (nullable = true)\n",
            " |-- unidad_medida: string (nullable = true)\n",
            " |-- ano: short (nullable = true)\n",
            " |-- id_indicador: long (nullable = true)\n",
            " |-- region_num: long (nullable = true)\n",
            " |-- per_ocu_num: long (nullable = true)\n",
            "\n",
            "+-------+--------------------+----------------+------+--------------------+------+------------------+----+------------+----------+-----------+\n",
            "|cve_mun|           nom_estab|         per_ocu|region|           indicador| valor|     unidad_medida| ano|id_indicador|region_num|per_ocu_num|\n",
            "+-------+--------------------+----------------+------+--------------------+------+------------------+----+------------+----------+-----------+\n",
            "|    120|ACUACULTORES LOS ...|  0 a 5 personas|centro|Personal ocupado ...|282211|Número de personas|2008|  5300000011|         1|          1|\n",
            "|    120|AGROSERVICIOS DIN...|  0 a 5 personas|centro|Personal ocupado ...|282211|Número de personas|2008|  5300000011|         1|          1|\n",
            "|    120|AGROSERVICIOS DIN...| 6 a 10 personas|centro|Personal ocupado ...|282211|Número de personas|2008|  5300000011|         1|          2|\n",
            "|    120|             AMBIENT|  0 a 5 personas|centro|Personal ocupado ...|282211|Número de personas|2008|  5300000011|         1|          1|\n",
            "|    120|DESHUESADERO DE COCO|11 a 30 personas|centro|Personal ocupado ...|282211|Número de personas|2008|  5300000011|         1|          3|\n",
            "|    120|DON LUPE XV, S.C....|11 a 30 personas|centro|Personal ocupado ...|282211|Número de personas|2008|  5300000011|         1|          3|\n",
            "|    120|GRANJA ACUÍCOLA N...|  0 a 5 personas|centro|Personal ocupado ...|282211|Número de personas|2008|  5300000011|         1|          1|\n",
            "|    120|PISCICULTURA Y OT...|11 a 30 personas|centro|Personal ocupado ...|282211|Número de personas|2008|  5300000011|         1|          3|\n",
            "|    120|             PROSISA| 6 a 10 personas|centro|Personal ocupado ...|282211|Número de personas|2008|  5300000011|         1|          2|\n",
            "|    120|RATICIDAS URBANOS...|  0 a 5 personas|centro|Personal ocupado ...|282211|Número de personas|2008|  5300000011|         1|          1|\n",
            "|    120|SALVADOR OROZCO D...|  0 a 5 personas|centro|Personal ocupado ...|282211|Número de personas|2008|  5300000011|         1|          1|\n",
            "|    120|           URBAN MAX|  0 a 5 personas|centro|Personal ocupado ...|282211|Número de personas|2008|  5300000011|         1|          1|\n",
            "|    120|    CALFINA SA DE CV| 6 a 10 personas|centro|Personal ocupado ...|282211|Número de personas|2008|  5300000011|         1|          2|\n",
            "|    120|    CANTERA TESISTAN|11 a 30 personas|centro|Personal ocupado ...|282211|Número de personas|2008|  5300000011|         1|          3|\n",
            "|    120|    CANTERAS OLYMPIA|  0 a 5 personas|centro|Personal ocupado ...|282211|Número de personas|2008|  5300000011|         1|          1|\n",
            "|    120|DESARROLLADORA MA...|  0 a 5 personas|centro|Personal ocupado ...|282211|Número de personas|2008|  5300000011|         1|          1|\n",
            "|    120|MINERIA CIMARRON ...| 6 a 10 personas|centro|Personal ocupado ...|282211|Número de personas|2008|  5300000011|         1|          2|\n",
            "|    120|AGUAS UNIDAS DEL ...|  0 a 5 personas|centro|Personal ocupado ...|282211|Número de personas|2008|  5300000011|         1|          1|\n",
            "|    120|AYUTAMIENTO DE ZA...|  0 a 5 personas|centro|Personal ocupado ...|282211|Número de personas|2008|  5300000011|         1|          1|\n",
            "|    120|       BOMBA DE AGUA|  0 a 5 personas|centro|Personal ocupado ...|282211|Número de personas|2008|  5300000011|         1|          1|\n",
            "+-------+--------------------+----------------+------+--------------------+------+------------------+----+------------+----------+-----------+\n",
            "only showing top 20 rows\n",
            "\n"
          ]
        }
      ]
    },
    {
      "cell_type": "code",
      "source": [
        "# Paso 6: Convertir la variable categórica en una variable numérica y crear el set de features\n",
        "\n",
        "indexer = StringIndexer(inputCol='region_num', outputCol='Región')\n",
        "indexed = indexer.fit(sparkDF).transform(sparkDF)\n",
        "\n",
        "assembler = VectorAssembler(inputCols=['per_ocu_num', 'valor', 'ano'], outputCol='features')\n",
        "assembled = assembler.transform(indexed)"
      ],
      "metadata": {
        "id": "eHRB-M9ZGHWP"
      },
      "execution_count": 121,
      "outputs": []
    },
    {
      "cell_type": "code",
      "source": [
        "# Paso 7: Dividir los datos en conjuntos de entrenamiento y prueba\n",
        "\n",
        "(trainingData, testData) = assembled.randomSplit([0.7, 0.3], seed=1234)"
      ],
      "metadata": {
        "id": "VA-goFC0h5pQ"
      },
      "execution_count": 122,
      "outputs": []
    },
    {
      "cell_type": "code",
      "source": [
        "# Paso 8: Crear un modelo de árbol de decisión con el método DecisionTreeClassifier\n",
        "\n",
        "dt = DecisionTreeClassifier(labelCol='Región', featuresCol='features')"
      ],
      "metadata": {
        "id": "4pTP4G3_I9P2"
      },
      "execution_count": 123,
      "outputs": []
    },
    {
      "cell_type": "code",
      "source": [
        "# Paso 9: Ajustar el modelo a los datos de entrenamiento y efectuar las predicciones de los datos \n",
        "\n",
        "model = dt.fit(trainingData)\n",
        "predictions = model.transform(testData)"
      ],
      "metadata": {
        "id": "HprZGxWHh-KO"
      },
      "execution_count": 124,
      "outputs": []
    },
    {
      "cell_type": "code",
      "source": [
        "# Paso 10: Evaluar el rendimiento del modelo\n",
        "\n",
        "evaluator = MulticlassClassificationEvaluator(labelCol='Región', predictionCol='prediction', metricName='accuracy')\n",
        "accuracy = evaluator.evaluate(predictions)\n",
        "\n",
        "print('Accuracy:', accuracy)"
      ],
      "metadata": {
        "colab": {
          "base_uri": "https://localhost:8080/"
        },
        "id": "fUuofaI2jBxO",
        "outputId": "c911f7f7-658a-49cb-dc09-8e11dd5f1075"
      },
      "execution_count": 125,
      "outputs": [
        {
          "output_type": "stream",
          "name": "stdout",
          "text": [
            "Accuracy: 0.7270429803478015\n"
          ]
        }
      ]
    }
  ]
}